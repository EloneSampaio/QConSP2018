{
 "cells": [
  {
   "cell_type": "markdown",
   "metadata": {},
   "source": [
    "# Exemplo: Modelo de Linguagem (RNN)\n"
   ]
  },
  {
   "cell_type": "code",
   "execution_count": 89,
   "metadata": {},
   "outputs": [
    {
     "data": {
      "text/html": [
       "<div style=\"float:left\">\n",
       "<video width=640 controls>\n",
       "  <source src=\"lstm_language_model.mp4\" type=\"video/mp4\">\n",
       "</video>\n",
       "</div>"
      ],
      "text/plain": [
       "<IPython.core.display.HTML object>"
      ]
     },
     "metadata": {},
     "output_type": "display_data"
    }
   ],
   "source": [
    "%%HTML\n",
    "<div style=\"float:left\">\n",
    "<video width=640 controls>\n",
    "  <source src=\"lstm_language_model.mp4\" type=\"video/mp4\">\n",
    "</video>\n",
    "</div>"
   ]
  },
  {
   "cell_type": "code",
   "execution_count": null,
   "metadata": {},
   "outputs": [],
   "source": []
  },
  {
   "cell_type": "code",
   "execution_count": 1,
   "metadata": {},
   "outputs": [
    {
     "name": "stdout",
     "output_type": "stream",
     "text": [
      "file_len = 1088123\n"
     ]
    }
   ],
   "source": [
    "import unidecode\n",
    "import string\n",
    "import random\n",
    "import re\n",
    "\n",
    "all_characters = string.printable\n",
    "n_characters = len(all_characters)\n",
    "file = unidecode.unidecode(open('./datasets/GrandeSertoVeredasGuimaresRosa.txt').read())\n",
    "file_len = len(file)\n",
    "print('file_len =', file_len)"
   ]
  },
  {
   "cell_type": "markdown",
   "metadata": {},
   "source": [
    "Divide o conjunto de dados em pedaços menores para uso durante o treino"
   ]
  },
  {
   "cell_type": "code",
   "execution_count": 2,
   "metadata": {},
   "outputs": [
    {
     "name": "stdout",
     "output_type": "stream",
     "text": [
      "ara fora: capaz de supilar os\n",
      "recheios e pertences todos duma casa-grande de fazenda, feito\n",
      "esta, salvo que seja...\" E eu bem que ja estava tomando afeicao\n",
      "aquele diabrim. Pois, com o Guirigo, as senho\n"
     ]
    }
   ],
   "source": [
    "chunk_len = 200\n",
    "\n",
    "def random_chunk():\n",
    "    start_index = random.randint(0, file_len - chunk_len)\n",
    "    end_index = start_index + chunk_len + 1\n",
    "    return file[start_index:end_index]\n",
    "\n",
    "print(random_chunk())"
   ]
  },
  {
   "cell_type": "markdown",
   "metadata": {},
   "source": [
    "# Define o modelo\n",
    "\n",
    "Este modelo vai receber como entrada o caracter para o passo de tempo atual e produzir como saída o próximo caracter.\n",
    "3 camadas:\n",
    " - 1 camada linear converte a entrada em uma representação vetorial\n",
    " - 1 bloco LSTM (que pode conter multiplas camadas) implementa a parte recorrente da rede\n",
    " - 1 camada linear que decodifica a saída da GRU em uma distribuição de probabilidades para o próximo caracter.\n"
   ]
  },
  {
   "cell_type": "code",
   "execution_count": 10,
   "metadata": {},
   "outputs": [],
   "source": [
    "import torch\n",
    "import torch.nn as nn\n",
    "\n",
    "class LanguageModel(nn.Module):\n",
    "    def __init__(self, input_size, hidden_size, output_size, n_layers=1):\n",
    "        super(LanguageModel, self).__init__()\n",
    "        self.input_size = input_size\n",
    "        self.hidden_size = hidden_size\n",
    "        self.output_size = output_size\n",
    "        self.n_layers = n_layers\n",
    "        \n",
    "        self.encoder = nn.Embedding(input_size, hidden_size)\n",
    "        self.lstm = nn.GRU(hidden_size, hidden_size, n_layers)\n",
    "        self.decoder = nn.Linear(hidden_size, output_size)\n",
    "    \n",
    "    def forward(self, input, hidden):\n",
    "        input = self.encoder(input)\n",
    "        output, hidden = self.lstm(input.view(1, 1, -1), hidden)\n",
    "        output = self.decoder(output.view(1, -1))\n",
    "        return output, hidden\n",
    "\n",
    "    def init_hidden(self):\n",
    "        return torch.zeros(self.n_layers, 1, self.hidden_size)"
   ]
  },
  {
   "cell_type": "markdown",
   "metadata": {},
   "source": [
    "# Inputs and Targets"
   ]
  },
  {
   "cell_type": "markdown",
   "metadata": {},
   "source": [
    "Cada pedaço do texto vai ser transformado em um tensor (LongTEnsor) contendo a sequencia\n",
    "de indices do caracter no dicionário `all_characters`\n"
   ]
  },
  {
   "cell_type": "code",
   "execution_count": 4,
   "metadata": {},
   "outputs": [
    {
     "name": "stdout",
     "output_type": "stream",
     "text": [
      "tensor([ 10,  11,  12,  39,  40,  41])\n"
     ]
    }
   ],
   "source": [
    "# Turn string into list of longs\n",
    "def char_tensor(string):\n",
    "    tensor = torch.zeros(len(string)).long()\n",
    "    for c in range(len(string)):\n",
    "        tensor[c] = all_characters.index(string[c])\n",
    "    return tensor\n",
    "\n",
    "print(char_tensor('abcDEF'))"
   ]
  },
  {
   "cell_type": "markdown",
   "metadata": {},
   "source": [
    "Cria um part de tensores (input e target) para treino.\n",
    "\n",
    "O tensor de entrada vai conter a sequencia de caracteres vista até o momento e o\n",
    "tensor de saída vai conter a sequencia que ocorre a partir deste ponto.\n"
   ]
  },
  {
   "cell_type": "code",
   "execution_count": 5,
   "metadata": {},
   "outputs": [],
   "source": [
    "def random_training_set():    \n",
    "    chunk = random_chunk()\n",
    "    inp = char_tensor(chunk[:-1])\n",
    "    target = char_tensor(chunk[1:])\n",
    "    return inp, target"
   ]
  },
  {
   "cell_type": "markdown",
   "metadata": {},
   "source": [
    "# Treinamento"
   ]
  },
  {
   "cell_type": "code",
   "execution_count": 7,
   "metadata": {},
   "outputs": [],
   "source": [
    "import time, math\n",
    "\n",
    "def time_since(since):\n",
    "    s = time.time() - since\n",
    "    m = math.floor(s / 60)\n",
    "    s -= m * 60\n",
    "    return '%dm %ds' % (m, s)"
   ]
  },
  {
   "cell_type": "code",
   "execution_count": 8,
   "metadata": {},
   "outputs": [],
   "source": [
    "def train(inp, target,model,model_optimizer):\n",
    "    hidden = model.init_hidden()\n",
    "    model_optimizer.zero_grad()\n",
    "    loss = 0\n",
    "\n",
    "    # Forward (para cada caractere)\n",
    "    for c in range(chunk_len):\n",
    "        output, hidden = model(inp[c], hidden)\n",
    "        loss += criterion(output, target[c].unsqueeze(0))\n",
    "\n",
    "    loss.backward()\n",
    "    model_optimizer.step()\n",
    "\n",
    "    return loss.data[0] / chunk_len"
   ]
  },
  {
   "cell_type": "markdown",
   "metadata": {},
   "source": [
    "Define os parâmetros de treino e o loop de treino"
   ]
  },
  {
   "cell_type": "code",
   "execution_count": 11,
   "metadata": {
    "scrolled": false
   },
   "outputs": [
    {
     "name": "stderr",
     "output_type": "stream",
     "text": [
      "/home/juliano/miniconda3/lib/python3.6/site-packages/ipykernel_launcher.py:14: UserWarning: invalid index of a 0-dim tensor. This will be an error in PyTorch 0.5. Use tensor.item() to convert a 0-dim tensor to a Python number\n",
      "  \n"
     ]
    },
    {
     "name": "stdout",
     "output_type": "stream",
     "text": [
      "[0m 13s (100 10%) 2.1817]\n",
      "[0m 25s (200 20%) 2.1662]\n",
      "[0m 46s (300 30%) 1.9718]\n",
      "[1m 0s (400 40%) 1.8940]\n",
      "[1m 12s (500 50%) 2.0215]\n",
      "[1m 35s (600 60%) 2.0058]\n",
      "[1m 51s (700 70%) 1.9175]\n",
      "[2m 12s (800 80%) 1.6705]\n",
      "[2m 36s (900 90%) 2.1442]\n",
      "[2m 51s (1000 100%) 1.9006]\n"
     ]
    }
   ],
   "source": [
    "n_epochs = 1000\n",
    "print_every = 100\n",
    "plot_every = 10\n",
    "hidden_size = 100\n",
    "n_layers = 1\n",
    "lr = 0.005\n",
    "\n",
    "model = LanguageModel(n_characters, hidden_size, n_characters, n_layers)\n",
    "model_optimizer = torch.optim.Adam(model.parameters(), lr=lr)\n",
    "criterion = nn.CrossEntropyLoss()\n",
    "\n",
    "start = time.time()\n",
    "all_losses = []\n",
    "loss_avg = 0\n",
    "\n",
    "for epoch in range(1, n_epochs + 1):\n",
    "    loss = train(*random_training_set(),model,model_optimizer)       \n",
    "    loss_avg += loss\n",
    "\n",
    "    if epoch % print_every == 0:\n",
    "        print('[%s (%d %d%%) %.4f]' % (time_since(start), epoch, epoch / n_epochs * 100, loss))\n",
    "       \n",
    "    if epoch % plot_every == 0:\n",
    "        all_losses.append(loss_avg / plot_every)\n",
    "        loss_avg = 0"
   ]
  },
  {
   "cell_type": "markdown",
   "metadata": {},
   "source": [
    "## Erro de treino\n"
   ]
  },
  {
   "cell_type": "code",
   "execution_count": 12,
   "metadata": {},
   "outputs": [
    {
     "data": {
      "text/plain": [
       "[<matplotlib.lines.Line2D at 0x7f38944c7780>]"
      ]
     },
     "execution_count": 12,
     "metadata": {},
     "output_type": "execute_result"
    },
    {
     "data": {
      "image/png": "[encoded data removed]",
      "text/plain": [
       "<Figure size 432x288 with 1 Axes>"
      ]
     },
     "metadata": {},
     "output_type": "display_data"
    }
   ],
   "source": [
    "import matplotlib.pyplot as plt\n",
    "import matplotlib.ticker as ticker\n",
    "%matplotlib inline\n",
    "\n",
    "plt.figure()\n",
    "plt.plot(all_losses)"
   ]
  },
  {
   "cell_type": "markdown",
   "metadata": {},
   "source": [
    "# Avaliação (sampling)\n",
    "\n",
    "Gera novas sequencias a partir de uma sequecia inicial (priming) "
   ]
  },
  {
   "cell_type": "code",
   "execution_count": 13,
   "metadata": {},
   "outputs": [],
   "source": [
    "def evaluate(prime_str='A', predict_len=100, temperature=0.8):\n",
    "    \n",
    "    with torch.no_grad():\n",
    "        hidden = model.init_hidden()\n",
    "        prime_input = char_tensor(prime_str)\n",
    "        predicted = prime_str\n",
    "\n",
    "        # Use priming string to \"build up\" hidden state\n",
    "        for p in range(len(prime_str) - 1):\n",
    "            _, hidden = model(prime_input[p], hidden)\n",
    "        inp = prime_input[-1]\n",
    "\n",
    "        for p in range(predict_len):\n",
    "            output, hidden = model(inp, hidden)\n",
    "\n",
    "            # Sample from the network as a multinomial distribution\n",
    "            output_dist = output.data.view(-1).div(temperature).exp()\n",
    "            top_i = torch.multinomial(output_dist, 1)[0]\n",
    "\n",
    "            # Add predicted character to string and use as next input\n",
    "            predicted_char = all_characters[top_i]\n",
    "            predicted += predicted_char\n",
    "            inp = char_tensor(predicted_char)\n",
    "\n",
    "        return predicted"
   ]
  },
  {
   "cell_type": "code",
   "execution_count": 21,
   "metadata": {},
   "outputs": [
    {
     "name": "stdout",
     "output_type": "stream",
     "text": [
      "Diadorim disse:\n",
      "se atiro encorrires par de meu a dela bom em minham\n",
      "outro, e de foja, quela de cariam, que e endo monte\n",
      "de danda algora maila; disavam pegonos, as conhacar-malento, e um maritucarro as\n",
      "caretado aque\n"
     ]
    }
   ],
   "source": [
    "print(evaluate('Diadorim disse', 200, temperature=0.8))"
   ]
  },
  {
   "cell_type": "code",
   "execution_count": 18,
   "metadata": {},
   "outputs": [
    {
     "name": "stdout",
     "output_type": "stream",
     "text": [
      "Compadres atrousa tevadaloandeleriro com exu: pres disor abxomustulou\n",
      "Splaliz Rub! gaz de de ficacouentas cobeistacatica; azvirada\n",
      "cavas que\n",
      "pugoas o Bamegos!\" so Faparnaduma. Eu noqes cui tinhabarou-de.\n",
      "Ze B\n"
     ]
    }
   ],
   "source": [
    "print(evaluate('Compadre', 200, temperature=1.4))"
   ]
  },
  {
   "cell_type": "code",
   "execution_count": 64,
   "metadata": {},
   "outputs": [],
   "source": [
    "def sentence_perplexity(sentence):\n",
    "    sentence_tensor=char_tensor(sentence)\n",
    "    hidden=model.init_hidden()\n",
    "    loss=0\n",
    "    with torch.no_grad():\n",
    "        for i in range(1,len(sentence)):\n",
    "            output,hidden=model(sentence_tensor[i-1],hidden)\n",
    "            loss+=criterion(output,sentence_tensor[i].unsqueeze(0))\n",
    "    \n",
    "    return loss/len(sentence)"
   ]
  },
  {
   "cell_type": "code",
   "execution_count": 82,
   "metadata": {},
   "outputs": [
    {
     "name": "stdout",
     "output_type": "stream",
     "text": [
      "A terra circula em torno do Sol -> 2.318\n",
      "Diadorim disse que viria mes que vem -> 1.465\n",
      "Minha terra tem palmeiras onde canta o Sabia -> 1.918\n",
      "Os tiros vinham de todo lado, coisa do demo -> 1.575\n",
      "O time do Brasil venceu por dois a zero -> 2.359\n"
     ]
    }
   ],
   "source": [
    "\n",
    "sentences=[\n",
    "          \"A terra circula em torno do Sol\",\n",
    "          \"Diadorim disse que viria mes que vem\",\n",
    "          \"Minha terra tem palmeiras onde canta o Sabia\",\n",
    "          \"Os tiros vinham de todo lado, coisa do demo\",\n",
    "          \"O time do Brasil venceu por dois a zero\"]\n",
    "\n",
    "for sentence in sentences:\n",
    "    print(\"%s -> %.3f\"%(sentence,sentence_perplexity(sentence)))\n"
   ]
  },
  {
   "cell_type": "markdown",
   "metadata": {},
   "source": [
    "# Pytorch em Produção\n",
    "\n",
    "## Cuidados\n",
    "\n",
    "- API ainda instável (0.2 -> 0.3 -> 0.4* -> 0.5 -> 1.0)\n",
    "- Autograd desnecessário pode comprometer desempenho (em inferência)\n",
    "- Deploy em mobile ainda é precário\n",
    "- Desempenho geral pode ainda ser insuficiente para alguns casos de uso\n",
    "\n",
    "<br>\n",
    "\n",
    "## Boas Notícias\n",
    "\n",
    "<img src=\"pytorch_roadmap.png\" width=\"70%\" style=\"float:left\">\n",
    " "
   ]
  }
 ],
 "metadata": {
  "anaconda-cloud": {},
  "kernelspec": {
   "display_name": "Python 3",
   "language": "python",
   "name": "python3"
  },
  "language_info": {
   "codemirror_mode": {
    "name": "ipython",
    "version": 3
   },
   "file_extension": ".py",
   "mimetype": "text/x-python",
   "name": "python",
   "nbconvert_exporter": "python",
   "pygments_lexer": "ipython3",
   "version": "3.6.4"
  }
 },
 "nbformat": 4,
 "nbformat_minor": 1
}
