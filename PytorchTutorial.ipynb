{
 "cells": [
  {
   "cell_type": "markdown",
   "metadata": {
    "slideshow": {
     "slide_type": "slide"
    }
   },
   "source": [
    "<center>\n",
    "    <img src=\"cover.png\" width=\"100%\">\n",
    "  \n",
    "</center>"
   ]
  },
  {
   "cell_type": "markdown",
   "metadata": {
    "slideshow": {
     "slide_type": "slide"
    }
   },
   "source": [
    "![deep learning history](DeepLearningTimeline.png)"
   ]
  },
  {
   "cell_type": "markdown",
   "metadata": {
    "slideshow": {
     "slide_type": "slide"
    }
   },
   "source": [
    "## Redes Neurais: Visão Tradicional\n",
    "![redes tradicionais](TraditionalNeuralNetwork.png)"
   ]
  },
  {
   "cell_type": "markdown",
   "metadata": {
    "slideshow": {
     "slide_type": "slide"
    }
   },
   "source": [
    "## Redes Neurais em 2018\n",
    "<center><img src=\"qanet.png\" style=\"height: 700px; align:center\">\n",
    "<div style=\"font-size: 8pt\">QANET: COMBINING LOCAL CONVOLUTION WITH GLOBAL SELF-ATTENTION FOR READING COMPREHENSION (https://arxiv.org/pdf/1804.09541.pdf)</div></center>\n",
    "  "
   ]
  },
  {
   "cell_type": "markdown",
   "metadata": {
    "slideshow": {
     "slide_type": "slide"
    }
   },
   "source": [
    "<center><img src=\"lipsync.png\" style=\"height: 700px; align:center\">\n",
    "<div style=\"font-size: 8pt\">Lip Reading Sentences in the Wild* (https://arxiv.org/pdf/1611.05358v1.pdf)</div></center>\n"
   ]
  },
  {
   "cell_type": "markdown",
   "metadata": {
    "slideshow": {
     "slide_type": "slide"
    }
   },
   "source": [
    "<center><img src=\"reasoning.png\">\n",
    "<div style=\"font-size: 8pt\">A simple neural network module\n",
    "for relational reasoning (https://arxiv.org/pdf/1706.01427.pdf)</div></center>"
   ]
  },
  {
   "cell_type": "markdown",
   "metadata": {
    "slideshow": {
     "slide_type": "slide"
    }
   },
   "source": [
    "# Receita para criar uma Rede Neural \n",
    "<br>\n",
    "\n",
    "## Ingedientes:\n",
    "\n",
    "<br>\n",
    "<br>\n",
    "- Dados\n",
    "- Estrutura da Rede\n",
    "- Função Objetivo\n",
    "- Otimizador\n",
    "<br>\n",
    "<br>\n",
    "<br>\n",
    "<br>\n",
    "<br>\n",
    "<br>\n",
    "<br>\n",
    "<br>\n",
    "<br>\n",
    "<br>\n",
    "\n",
    "\n"
   ]
  },
  {
   "cell_type": "markdown",
   "metadata": {
    "slideshow": {
     "slide_type": "slide"
    }
   },
   "source": [
    "## Modo de preparo\n",
    "\n",
    "    \n",
    "    inicialize learning_rate com constante de velocidade de aprendizado\n",
    "\n",
    "    instancie a estrutura da Rede Neural\n",
    "\n",
    "    inicialize os parâmetros com valores aleatórios (pequenos)\n",
    "\n",
    "    repita:\n",
    "\n",
    "        \"forward pass\":\n",
    "            selecione um subconjunto dos dados de treino (minibatch)\n",
    "            obtenha saídas da rede para os exemplos do minibatch\n",
    "            compare as saídas obtidas com o esperado (função de perda)\n",
    "        \n",
    "        \"backward pass\":\n",
    "            calcule o gradiente entre a função de perda e a última camada\n",
    "            para cada camada da penúltima até a primeira:\n",
    "                calcule o gradiente entre a camada N-1 e a camada N\n",
    "            \n",
    "         \"optimize\":\n",
    "            atualize todos os pesos da rede usando a equação (otimizador):\n",
    "               w = w - learning_rate * gradient\n",
    "       \n",
    "\n",
    "    até a convergência do treinamento.\n",
    "\n"
   ]
  },
  {
   "cell_type": "markdown",
   "metadata": {},
   "source": [
    "<div style=\"background-color: white\">\n",
    "<img src=\"NeuralNetworking_transp.gif\" width=\"70%\">\n",
    "</div>"
   ]
  },
  {
   "cell_type": "markdown",
   "metadata": {
    "slideshow": {
     "slide_type": "slide"
    }
   },
   "source": [
    "# Frameworks de Deep Learning\n",
    "\n",
    "![](FrameworksDeepLearning.png)\n",
    "<br/>\n",
    "\n",
    "Objetivos: \n",
    "- Encapsular os passos \"forward\", \"backward\" e \"optimize\"\n",
    "- Fornecer blocos de código reusável para a definição da estrutura dos modelos\n",
    "\n",
    "\n",
    "\n",
    "\n",
    "\n",
    "\n",
    "\n"
   ]
  },
  {
   "cell_type": "markdown",
   "metadata": {
    "slideshow": {
     "slide_type": "slide"
    }
   },
   "source": [
    "# Frameworks estáticos: Grafo Computacional\n",
    "<center>\n",
    "![tensors flowing](tensors_flowing.gif)\n",
    "</center>"
   ]
  },
  {
   "cell_type": "markdown",
   "metadata": {},
   "source": [
    "#  Exemplo: Tensorflow vs PyTorch"
   ]
  },
  {
   "cell_type": "code",
   "execution_count": null,
   "metadata": {},
   "outputs": [],
   "source": [
    "import tensorflow as tf\n",
    "\n",
    "# Initialize two constants\n",
    "x1 = tf.constant([1,2,3,4])\n",
    "x2 = tf.constant([5,6,7,8])\n",
    "\n",
    "# Multiply\n",
    "graph = tf.multiply(x1, x2)\n",
    "\n",
    "# Intialize the Session\n",
    "sess = tf.Session()\n",
    "\n",
    "# Print the result\n",
    "result=sess.run(graph)\n",
    "print(result)\n",
    "\n",
    "# Close the session\n",
    "sess.close()"
   ]
  },
  {
   "cell_type": "code",
   "execution_count": 24,
   "metadata": {},
   "outputs": [
    {
     "name": "stdout",
     "output_type": "stream",
     "text": [
      "tensor([  5.,  12.,  21.,  32.])\n"
     ]
    }
   ],
   "source": [
    "# Import PyTorch\n",
    "import torch\n",
    "\n",
    "x1=torch.Tensor([1,2,3,4])\n",
    "x2=torch.Tensor([5,6,7,8])\n",
    "\n",
    "result=x1*x2\n",
    "\n",
    "print(result)"
   ]
  },
  {
   "cell_type": "markdown",
   "metadata": {},
   "source": [
    "# Frameworks dinâmicos\n",
    "\n",
    "- Menos código\n",
    "- Execução mais intuitiva\n",
    "- Depuração mais simples\n",
    "- Arquiteturas adaptáveis e modulares\n",
    "\n",
    "# Frameworks estáticos\n",
    "\n",
    "- Melhor otimização de recursos\n",
    "- Maior desempenho\n",
    "\n"
   ]
  },
  {
   "cell_type": "markdown",
   "metadata": {},
   "source": [
    "# PyTorch\n",
    "<center>\n",
    "<img src=\"PyTorchSite.png\" width=60%>\n",
    "    </center>\n",
    "- Versão Inicial: Outubro / 2016\n",
    "- Versão atual: 0.4 (24/04/2018) --> Mudanças significativas na API!!\n",
    "- Próxima versão: 1.0 (\"summer 2018\")\n",
    "\n"
   ]
  },
  {
   "cell_type": "markdown",
   "metadata": {},
   "source": [
    "<center>\n",
    "    <img src=\"karpathy.png\" width=\"70%\">\n",
    " </center>"
   ]
  },
  {
   "cell_type": "markdown",
   "metadata": {},
   "source": [
    "## Tensors"
   ]
  },
  {
   "cell_type": "code",
   "execution_count": 25,
   "metadata": {},
   "outputs": [
    {
     "name": "stdout",
     "output_type": "stream",
     "text": [
      "tensor([ 1.,  2.,  3.,  4.])\n"
     ]
    }
   ],
   "source": [
    "import torch\n",
    "\n",
    "x=torch.Tensor([1,2,3,4])\n",
    "print(x)"
   ]
  },
  {
   "cell_type": "code",
   "execution_count": 26,
   "metadata": {},
   "outputs": [
    {
     "name": "stdout",
     "output_type": "stream",
     "text": [
      "torch.Size([4])\n"
     ]
    }
   ],
   "source": [
    "print(x.size())"
   ]
  },
  {
   "cell_type": "code",
   "execution_count": 27,
   "metadata": {},
   "outputs": [
    {
     "name": "stdout",
     "output_type": "stream",
     "text": [
      "tensor([[ 0.,  0.,  0.,  0.,  0.],\n",
      "        [ 0.,  0.,  0.,  0.,  0.],\n",
      "        [ 0.,  0.,  0.,  0.,  0.],\n",
      "        [ 0.,  0.,  0.,  0.,  0.],\n",
      "        [ 0.,  0.,  0.,  0.,  0.],\n",
      "        [ 0.,  0.,  0.,  0.,  0.],\n",
      "        [ 0.,  0.,  0.,  0.,  0.],\n",
      "        [ 0.,  0.,  0.,  0.,  0.],\n",
      "        [ 0.,  0.,  0.,  0.,  0.],\n",
      "        [ 0.,  0.,  0.,  0.,  0.]])\n"
     ]
    }
   ],
   "source": [
    "x=torch.zeros(10,5)\n",
    "print(x)"
   ]
  },
  {
   "cell_type": "code",
   "execution_count": 28,
   "metadata": {},
   "outputs": [
    {
     "name": "stdout",
     "output_type": "stream",
     "text": [
      "torch.Size([10, 5])\n"
     ]
    }
   ],
   "source": [
    "print(x.size())"
   ]
  },
  {
   "cell_type": "code",
   "execution_count": 29,
   "metadata": {},
   "outputs": [
    {
     "name": "stdout",
     "output_type": "stream",
     "text": [
      "tensor([[  15.,    0.,    0.,    0., -100.],\n",
      "        [  -1.,   -1.,   -1.,   -1.,   -1.],\n",
      "        [   0.,    0.,    0.,    0.,    0.],\n",
      "        [   0.,    0.,    0.,    0.,    0.],\n",
      "        [   0.,    0.,    0.,    0.,    0.],\n",
      "        [   0.,    0.,    0.,    0.,    0.],\n",
      "        [   0.,    0.,    0.,    0.,    0.],\n",
      "        [   0.,    0.,    0.,    0.,    0.],\n",
      "        [   0.,    0.,    0.,    0.,    0.],\n",
      "        [   0.,    0.,    0.,    0.,    0.]])\n"
     ]
    }
   ],
   "source": [
    "x[0][0]=15\n",
    "x[1][:]=-1\n",
    "x[0][-1]=-100\n",
    "print(x)"
   ]
  },
  {
   "cell_type": "markdown",
   "metadata": {},
   "source": [
    "# Exemplo: Regressão Linear em PyTorch"
   ]
  },
  {
   "cell_type": "markdown",
   "metadata": {},
   "source": [
    "## Definindo o conjunto de dados \n"
   ]
  },
  {
   "cell_type": "code",
   "execution_count": 30,
   "metadata": {},
   "outputs": [],
   "source": [
    "import torch\n",
    "import matplotlib.pyplot as plt\n",
    "plt.rcParams['figure.figsize'] = [10, 5]\n",
    "plt.rcParams['xtick.color'] = 'white'\n",
    "plt.rcParams['ytick.color'] = 'white'\n"
   ]
  },
  {
   "cell_type": "code",
   "execution_count": 31,
   "metadata": {},
   "outputs": [
    {
     "data": {
      "text/plain": [
       "<torch._C.Generator at 0x7f06342351d0>"
      ]
     },
     "execution_count": 31,
     "metadata": {},
     "output_type": "execute_result"
    }
   ],
   "source": [
    "torch.manual_seed(42)"
   ]
  },
  {
   "cell_type": "code",
   "execution_count": 32,
   "metadata": {},
   "outputs": [
    {
     "data": {
      "image/png": "[encoded data removed]",
      "text/plain": [
       "<Figure size 720x360 with 1 Axes>"
      ]
     },
     "metadata": {},
     "output_type": "display_data"
    }
   ],
   "source": [
    "data_X = torch.linspace(-1, 1, 101)\n",
    "data_Y = 2 * data_X + torch.randn(data_X.size()) * 0.33\n",
    "\n",
    "plt.scatter(data_X,data_Y)\n",
    "plt.show()"
   ]
  },
  {
   "cell_type": "markdown",
   "metadata": {},
   "source": [
    "## Definindo o modelo"
   ]
  },
  {
   "cell_type": "code",
   "execution_count": 34,
   "metadata": {},
   "outputs": [],
   "source": [
    "A=torch.randn(1,requires_grad=True)\n",
    "B=torch.randn(1,requires_grad=True)\n",
    "\n",
    "def model(x):\n",
    "    return A*x+B"
   ]
  },
  {
   "cell_type": "markdown",
   "metadata": {},
   "source": [
    "## Treinamento"
   ]
  },
  {
   "cell_type": "code",
   "execution_count": 35,
   "metadata": {},
   "outputs": [
    {
     "name": "stdout",
     "output_type": "stream",
     "text": [
      "Epoch 0 , error 1.721\n",
      "Epoch 1 , error 1.467\n",
      "Epoch 2 , error 1.214\n",
      "Epoch 3 , error 0.963\n",
      "Epoch 4 , error 0.724\n",
      "Epoch 5 , error 0.501\n",
      "Epoch 6 , error 0.343\n",
      "Epoch 7 , error 0.287\n",
      "Epoch 8 , error 0.282\n",
      "Epoch 9 , error 0.282\n"
     ]
    }
   ],
   "source": [
    "# Como chegar aos coeficientes A e B a partir dos dados?\n",
    "# Vamos implementar uma solução usando Stochastic Gradient Descent\n",
    "\n",
    "learning_rate=0.01\n",
    "num_training_instances=data_X.size(0)\n",
    "a_history={}\n",
    "for i in range(0,10):\n",
    "    \n",
    "    epoch_error=0\n",
    "    \n",
    "    # Forward\n",
    "    y=model(data_X)\n",
    "    # Loss function\n",
    "    error= torch.abs(y-data_Y).sum()  # Erro total \n",
    "    \n",
    "    # Backward  \n",
    "    error.backward()\n",
    "    \n",
    "    #Optimizer \n",
    "    with torch.no_grad():\n",
    "        a_history[i]=A.item()\n",
    "        A-=learning_rate*A.grad\n",
    "        B-=learning_rate*B.grad\n",
    "    \n",
    "    A.grad.zero_()\n",
    "    B.grad.zero_()\n",
    "        \n",
    "    print(\"Epoch %d , error %.3f\"%(i,error/num_training_instances))    \n",
    "        "
   ]
  },
  {
   "cell_type": "markdown",
   "metadata": {},
   "source": [
    "## Avaliação"
   ]
  },
  {
   "cell_type": "code",
   "execution_count": 36,
   "metadata": {
    "slideshow": {
     "slide_type": ""
    }
   },
   "outputs": [
    {
     "data": {
      "text/plain": [
       "<matplotlib.collections.PathCollection at 0x7f06112d0d30>"
      ]
     },
     "execution_count": 36,
     "metadata": {},
     "output_type": "execute_result"
    },
    {
     "data": {
      "image/png": "[encoded data removed]",
      "text/plain": [
       "<Figure size 720x360 with 1 Axes>"
      ]
     },
     "metadata": {},
     "output_type": "display_data"
    }
   ],
   "source": [
    "pred_Y=model(data_X)\n",
    "plt.scatter(data_X,data_Y,color=\"blue\")\n",
    "plt.scatter(data_X,pred_Y.detach().numpy(),color=\"red\")"
   ]
  },
  {
   "cell_type": "code",
   "execution_count": 37,
   "metadata": {},
   "outputs": [
    {
     "data": {
      "text/plain": [
       "<matplotlib.collections.PathCollection at 0x7f06112af4a8>"
      ]
     },
     "execution_count": 37,
     "metadata": {},
     "output_type": "execute_result"
    },
    {
     "data": {
      "image/png": "[encoded data removed]",
      "text/plain": [
       "<Figure size 720x360 with 1 Axes>"
      ]
     },
     "metadata": {},
     "output_type": "display_data"
    }
   ],
   "source": [
    "plt.scatter(a_history.keys(),a_history.values())"
   ]
  },
  {
   "cell_type": "markdown",
   "metadata": {},
   "source": [
    "# Exemplo 2: Predição de Diabetes"
   ]
  },
  {
   "cell_type": "markdown",
   "metadata": {},
   "source": [
    "## Leitura do dataset"
   ]
  },
  {
   "cell_type": "code",
   "execution_count": 38,
   "metadata": {},
   "outputs": [
    {
     "data": {
      "text/html": [
       "<div>\n",
       "<style scoped>\n",
       "    .dataframe tbody tr th:only-of-type {\n",
       "        vertical-align: middle;\n",
       "    }\n",
       "\n",
       "    .dataframe tbody tr th {\n",
       "        vertical-align: top;\n",
       "    }\n",
       "\n",
       "    .dataframe thead th {\n",
       "        text-align: right;\n",
       "    }\n",
       "</style>\n",
       "<table border=\"1\" class=\"dataframe\">\n",
       "  <thead>\n",
       "    <tr style=\"text-align: right;\">\n",
       "      <th></th>\n",
       "      <th>Pregnancies</th>\n",
       "      <th>Glucose</th>\n",
       "      <th>BloodPressure</th>\n",
       "      <th>SkinThickness</th>\n",
       "      <th>Insulin</th>\n",
       "      <th>BMI</th>\n",
       "      <th>DiabetesPedigreeFunction</th>\n",
       "      <th>Age</th>\n",
       "      <th>Outcome</th>\n",
       "    </tr>\n",
       "  </thead>\n",
       "  <tbody>\n",
       "    <tr>\n",
       "      <th>0</th>\n",
       "      <td>6</td>\n",
       "      <td>148</td>\n",
       "      <td>72</td>\n",
       "      <td>35</td>\n",
       "      <td>0</td>\n",
       "      <td>33.6</td>\n",
       "      <td>0.627</td>\n",
       "      <td>50</td>\n",
       "      <td>1</td>\n",
       "    </tr>\n",
       "    <tr>\n",
       "      <th>1</th>\n",
       "      <td>1</td>\n",
       "      <td>85</td>\n",
       "      <td>66</td>\n",
       "      <td>29</td>\n",
       "      <td>0</td>\n",
       "      <td>26.6</td>\n",
       "      <td>0.351</td>\n",
       "      <td>31</td>\n",
       "      <td>0</td>\n",
       "    </tr>\n",
       "    <tr>\n",
       "      <th>2</th>\n",
       "      <td>8</td>\n",
       "      <td>183</td>\n",
       "      <td>64</td>\n",
       "      <td>0</td>\n",
       "      <td>0</td>\n",
       "      <td>23.3</td>\n",
       "      <td>0.672</td>\n",
       "      <td>32</td>\n",
       "      <td>1</td>\n",
       "    </tr>\n",
       "    <tr>\n",
       "      <th>3</th>\n",
       "      <td>1</td>\n",
       "      <td>89</td>\n",
       "      <td>66</td>\n",
       "      <td>23</td>\n",
       "      <td>94</td>\n",
       "      <td>28.1</td>\n",
       "      <td>0.167</td>\n",
       "      <td>21</td>\n",
       "      <td>0</td>\n",
       "    </tr>\n",
       "    <tr>\n",
       "      <th>4</th>\n",
       "      <td>0</td>\n",
       "      <td>137</td>\n",
       "      <td>40</td>\n",
       "      <td>35</td>\n",
       "      <td>168</td>\n",
       "      <td>43.1</td>\n",
       "      <td>2.288</td>\n",
       "      <td>33</td>\n",
       "      <td>1</td>\n",
       "    </tr>\n",
       "  </tbody>\n",
       "</table>\n",
       "</div>"
      ],
      "text/plain": [
       "   Pregnancies  Glucose  BloodPressure  SkinThickness  Insulin   BMI  \\\n",
       "0            6      148             72             35        0  33.6   \n",
       "1            1       85             66             29        0  26.6   \n",
       "2            8      183             64              0        0  23.3   \n",
       "3            1       89             66             23       94  28.1   \n",
       "4            0      137             40             35      168  43.1   \n",
       "\n",
       "   DiabetesPedigreeFunction  Age  Outcome  \n",
       "0                     0.627   50        1  \n",
       "1                     0.351   31        0  \n",
       "2                     0.672   32        1  \n",
       "3                     0.167   21        0  \n",
       "4                     2.288   33        1  "
      ]
     },
     "execution_count": 38,
     "metadata": {},
     "output_type": "execute_result"
    }
   ],
   "source": [
    "import pandas as pd\n",
    "diabetes = pd.read_csv('diabetes.csv')\n",
    "diabetes.head()"
   ]
  },
  {
   "cell_type": "markdown",
   "metadata": {},
   "source": [
    "## Pre-processamento:\n",
    "- Separa features e target\n",
    "- Converte target de [0,1] para [-1,1]\n",
    "- Normaliza features para [0,1]"
   ]
  },
  {
   "cell_type": "code",
   "execution_count": 39,
   "metadata": {},
   "outputs": [],
   "source": [
    "from sklearn import preprocessing\n",
    "\n",
    "diabetes['Outcome'].replace(to_replace=[0],value=-1,inplace=True)\n",
    "\n",
    "diabetes_features=diabetes.loc[:,diabetes.columns!='Outcome']\n",
    "\n",
    "diabetes_target=diabetes.loc[:,diabetes.columns=='Outcome'].values\n",
    "\n",
    "# Converte valores para a mesma escala (entre 0 e 1)\n",
    "\n",
    "minmax_scale = preprocessing.MinMaxScaler().fit(diabetes_features)\n",
    "diabetes_features=minmax_scale.transform(diabetes_features)\n"
   ]
  },
  {
   "cell_type": "markdown",
   "metadata": {},
   "source": [
    "## Divisão do Dataset\n",
    "- Cria splits de treino e teste\n",
    "- Converte valores de ndarray para Tensor"
   ]
  },
  {
   "cell_type": "code",
   "execution_count": 40,
   "metadata": {},
   "outputs": [
    {
     "name": "stdout",
     "output_type": "stream",
     "text": [
      "Size of X feature set: \n"
     ]
    },
    {
     "data": {
      "text/plain": [
       "torch.Size([576, 8])"
      ]
     },
     "execution_count": 40,
     "metadata": {},
     "output_type": "execute_result"
    }
   ],
   "source": [
    "from sklearn.model_selection import train_test_split\n",
    "X_train, X_test,Y_train,Y_test = train_test_split(diabetes_features,diabetes_target)\n",
    "\n",
    "X_train_tensor=torch.from_numpy(X_train).float()\n",
    "Y_train_tensor=torch.from_numpy(Y_train).float()\n",
    "\n",
    "print(\"Size of X feature set: \")\n",
    "X_train_tensor.size()"
   ]
  },
  {
   "cell_type": "markdown",
   "metadata": {},
   "source": [
    "## Define Rede Neural "
   ]
  },
  {
   "cell_type": "code",
   "execution_count": 41,
   "metadata": {},
   "outputs": [],
   "source": [
    "import torch.nn.functional as F\n",
    "class DiabetesPredictionModel(torch.nn.Module):\n",
    "     def __init__(self):\n",
    "            super(DiabetesPredictionModel, self).__init__()\n",
    "        \n",
    "            self.linear_projection1=torch.nn.Linear(8,2)\n",
    "            self.linear_projection2=torch.nn.Linear(2,1)  \n",
    "            \n",
    "     def forward(self,x):\n",
    "        \n",
    "        output=F.tanh(self.linear_projection1(x))\n",
    "        output=F.tanh(self.linear_projection2(output))\n",
    "\n",
    "        return output\n",
    "    \n",
    "\n",
    "    "
   ]
  },
  {
   "cell_type": "markdown",
   "metadata": {},
   "source": [
    "### Pytorch Building Blocks\n",
    "<img src=\"torch_nn.png\" height=600px >"
   ]
  },
  {
   "cell_type": "markdown",
   "metadata": {},
   "source": [
    "<img src=\"linear.png\" width=\"70%\">"
   ]
  },
  {
   "cell_type": "markdown",
   "metadata": {},
   "source": [
    "## Instancia Rede Neural e hiperparâmetros"
   ]
  },
  {
   "cell_type": "code",
   "execution_count": 42,
   "metadata": {},
   "outputs": [],
   "source": [
    "model=DiabetesPredictionModel()\n",
    "minibatch_size=32\n",
    "learning_rate=1e-2\n",
    "\n",
    "with torch.no_grad():\n",
    "    for param in model.parameters():\n",
    "        param.uniform_(0,0.01)\n",
    "\n",
    "from sklearn.metrics import accuracy_score\n",
    "\n",
    "import torch.optim as optim\n",
    "\n",
    "optimizer=optim.Adam(model.parameters(),0.01)"
   ]
  },
  {
   "cell_type": "markdown",
   "metadata": {},
   "source": [
    "## Loop de Treino"
   ]
  },
  {
   "cell_type": "code",
   "execution_count": 43,
   "metadata": {},
   "outputs": [
    {
     "data": {
      "text/plain": [
       "<matplotlib.collections.PathCollection at 0x7f06113bd160>"
      ]
     },
     "execution_count": 43,
     "metadata": {},
     "output_type": "execute_result"
    },
    {
     "data": {
      "image/png": "[encoded data removed]",
      "text/plain": [
       "<Figure size 720x360 with 1 Axes>"
      ]
     },
     "metadata": {},
     "output_type": "display_data"
    }
   ],
   "source": [
    "losses={}\n",
    "total_loss=0\n",
    "for i in range(0,2000):\n",
    "    # Seleciona um minibatch aleatório a partir do treino\n",
    "    minibatch_index=torch.randperm(X_train_tensor.size(0))\n",
    "    minibatch_index=minibatch_index[:minibatch_size]\n",
    "    minibatch_x=X_train_tensor[minibatch_index]\n",
    "    minibatch_y=Y_train_tensor[minibatch_index]\n",
    "\n",
    "    #Forward pass\n",
    "    output=model(minibatch_x)\n",
    "    loss=F.soft_margin_loss(output,minibatch_y)\n",
    "    \n",
    "    # Backward pass\n",
    "    loss.backward()\n",
    "    total_loss+=loss.item()\n",
    "    # Optimizer pass\n",
    "    optimizer.step()\n",
    "    optimizer.zero_grad()\n",
    "    \n",
    "    if i>0 and i%10==0:\n",
    "        losses[i]=total_loss/i\n",
    "    \n",
    "plt.scatter(losses.keys(),losses.values())"
   ]
  },
  {
   "cell_type": "markdown",
   "metadata": {},
   "source": [
    "<img src=\"soft_margin_loss.png\" width=\"70%\">"
   ]
  },
  {
   "cell_type": "markdown",
   "metadata": {},
   "source": [
    "## Avaliação do modelo"
   ]
  },
  {
   "cell_type": "code",
   "execution_count": 44,
   "metadata": {},
   "outputs": [
    {
     "name": "stdout",
     "output_type": "stream",
     "text": [
      "Train accuracy: 78.12%\n",
      "Test accuracy: 77.60%\n"
     ]
    }
   ],
   "source": [
    "def evaluate(model):\n",
    "    with torch.no_grad():\n",
    "        # Avalia no conjunto de testes\n",
    "        X_test_tensor=torch.from_numpy(X_test).float()\n",
    "        Y_test_tensor=torch.from_numpy(Y_test).float()\n",
    "\n",
    "        y_train_pred=model(X_train_tensor)\n",
    "        y_test_pred=model(X_test_tensor)\n",
    "\n",
    "        train_accuracy=accuracy_score(Y_train_tensor.gt(0),y_train_pred.gt(0))\n",
    "        test_accuracy=accuracy_score(Y_test_tensor.gt(0),y_test_pred.gt(0))\n",
    "        print(\"Train accuracy: %.2f%%\"%(100*train_accuracy))\n",
    "        print(\"Test accuracy: %.2f%%\"%(100*test_accuracy)) \n",
    "evaluate(model)\n"
   ]
  },
  {
   "cell_type": "markdown",
   "metadata": {},
   "source": [
    "## Salvando o modelo "
   ]
  },
  {
   "cell_type": "code",
   "execution_count": 45,
   "metadata": {
    "slideshow": {
     "slide_type": ""
    }
   },
   "outputs": [],
   "source": [
    "torch.save(model.state_dict(),'./models/diabetes_model.dat')"
   ]
  },
  {
   "cell_type": "markdown",
   "metadata": {},
   "source": [
    "## Carregando o modelo"
   ]
  },
  {
   "cell_type": "code",
   "execution_count": 48,
   "metadata": {
    "slideshow": {
     "slide_type": ""
    }
   },
   "outputs": [
    {
     "name": "stdout",
     "output_type": "stream",
     "text": [
      "Before load:\n",
      "Train accuracy: 45.66%\n",
      "Test accuracy: 47.92%\n",
      "After load:\n",
      "Train accuracy: 78.12%\n",
      "Test accuracy: 77.60%\n"
     ]
    }
   ],
   "source": [
    "model2=DiabetesPredictionModel()\n",
    "print(\"Before load:\")\n",
    "evaluate(model2)\n",
    "\n",
    "model2.load_state_dict(torch.load('./models/diabetes_model.dat'))\n",
    "print(\"After load:\")\n",
    "evaluate(model2)"
   ]
  },
  {
   "cell_type": "markdown",
   "metadata": {},
   "source": [
    "## Visualização da representação interna"
   ]
  },
  {
   "cell_type": "code",
   "execution_count": 49,
   "metadata": {},
   "outputs": [
    {
     "data": {
      "text/plain": [
       "<matplotlib.collections.PathCollection at 0x7f06113596a0>"
      ]
     },
     "execution_count": 49,
     "metadata": {},
     "output_type": "execute_result"
    },
    {
     "data": {
      "image/png": "[encoded data removed]",
      "text/plain": [
       "<Figure size 720x360 with 1 Axes>"
      ]
     },
     "metadata": {},
     "output_type": "display_data"
    }
   ],
   "source": [
    "X_test_tensor=torch.from_numpy(X_test).float()\n",
    "Y_test_tensor=torch.from_numpy(Y_test).float()\n",
    "network_representation=model.linear_projection1(X_test_tensor).detach()\n",
    "\n",
    "plt.scatter(x=network_representation[:,0].numpy(),\n",
    "            y=network_representation[:,1].numpy(),\n",
    "            c=Y_test_tensor.gt(0).squeeze())"
   ]
  }
 ],
 "metadata": {
  "kernelspec": {
   "display_name": "Python 3",
   "language": "python",
   "name": "python3"
  },
  "language_info": {
   "codemirror_mode": {
    "name": "ipython",
    "version": 3
   },
   "file_extension": ".py",
   "mimetype": "text/x-python",
   "name": "python",
   "nbconvert_exporter": "python",
   "pygments_lexer": "ipython3",
   "version": "3.6.4"
  }
 },
 "nbformat": 4,
 "nbformat_minor": 2
}
