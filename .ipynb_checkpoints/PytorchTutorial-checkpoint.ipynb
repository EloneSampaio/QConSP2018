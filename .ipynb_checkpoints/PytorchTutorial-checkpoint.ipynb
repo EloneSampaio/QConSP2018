{
 "cells": [
  {
   "cell_type": "markdown",
   "metadata": {
    "slideshow": {
     "slide_type": "slide"
    }
   },
   "source": [
    "# Redes Neurais Dinâmicas com PyTorch\n",
    "## Juliano Viana <juliano@kunumi.ai> @jjviana \n"
   ]
  },
  {
   "cell_type": "markdown",
   "metadata": {
    "slideshow": {
     "slide_type": "slide"
    }
   },
   "source": [
    "![deep learning history](DeepLearningTimeline.png)"
   ]
  },
  {
   "cell_type": "markdown",
   "metadata": {
    "slideshow": {
     "slide_type": "slide"
    }
   },
   "source": [
    "## Redes Neurais: Visão Tradicional\n",
    "![redes tradicionais](TraditionalNeuralNetwork.png)"
   ]
  },
  {
   "cell_type": "markdown",
   "metadata": {
    "slideshow": {
     "slide_type": "slide"
    }
   },
   "source": [
    "<center><img src=\"qanet.png\" style=\"height: 700px; align:center\">\n",
    "<div style=\"font-size: 8pt\">QANET: COMBINING LOCAL CONVOLUTION WITH GLOBAL SELF-ATTENTION FOR READING COMPREHENSION (https://arxiv.org/pdf/1804.09541.pdf)</div></center>\n",
    "  "
   ]
  },
  {
   "cell_type": "markdown",
   "metadata": {
    "slideshow": {
     "slide_type": "slide"
    }
   },
   "source": [
    "<center><img src=\"lipsync.png\" style=\"height: 700px; align:center\">\n",
    "<div style=\"font-size: 8pt\">Lip Reading Sentences in the Wild* (https://arxiv.org/pdf/1611.05358v1.pdf)</div></center>\n"
   ]
  },
  {
   "cell_type": "markdown",
   "metadata": {
    "slideshow": {
     "slide_type": "slide"
    }
   },
   "source": [
    "<center><img src=\"reasoning.png\" style=\"height: 700px; align:center\">\n",
    "<div style=\"font-size: 8pt\">A simple neural network module\n",
    "for relational reasoning (https://arxiv.org/pdf/1706.01427.pdf)</div></center>"
   ]
  },
  {
   "cell_type": "markdown",
   "metadata": {
    "slideshow": {
     "slide_type": "slide"
    }
   },
   "source": [
    "# Receita para criar uma Rede Neural \n",
    "\n",
    "## Ingedientes:\n",
    "\n",
    "- Dados\n",
    "- Estrutura da Rede\n",
    "- Função Objetivo\n",
    "- Otimizador\n",
    "\n"
   ]
  },
  {
   "cell_type": "markdown",
   "metadata": {
    "slideshow": {
     "slide_type": "slide"
    }
   },
   "source": [
    "## Modo de preparo\n",
    "\n",
    "    \n",
    "    inicialize learning_rate com constante de velocidade de aprendizado\n",
    "\n",
    "    instancie a estrutura da Rede Neural\n",
    "\n",
    "    inicialize os parâmetros com valores aleatórios (pequenos)\n",
    "\n",
    "    repita:\n",
    "\n",
    "        \"forward pass\":\n",
    "            selecione um subconjunto dos dados de treino (minibatch)\n",
    "            obtenha saídas da rede para os exemplos do minibatch\n",
    "            compare as saídas obtidas com o esperado (função de perda)\n",
    "        \n",
    "        \"backward pass\":\n",
    "            calcule o gradiente entre a função de perda e a última camada\n",
    "            para cada camada da penúltima até a primeira:\n",
    "                calcule o gradiente entre a camada N-1 e a camada N\n",
    "            \n",
    "         \"optimize\":\n",
    "            atualize todos os pesos da rede usando a equação (otimizador):\n",
    "               w = w - learning_rate * gradient\n",
    "       \n",
    "\n",
    "    até a convergência do treinamento.\n",
    "\n"
   ]
  },
  {
   "cell_type": "markdown",
   "metadata": {
    "slideshow": {
     "slide_type": "slide"
    }
   },
   "source": [
    "# Frameworks de Deep Learning\n",
    "\n",
    "- Theano\n",
    "- Torch\n",
    "- Tensorflow\n",
    "- PyTorch\n",
    "- MXNet\n",
    "\n",
    "Objetivo: encapsular os passos \"forward\", \"backward\" e \"optimize\", fomentando reuso de código e eficiência computacional"
   ]
  },
  {
   "cell_type": "markdown",
   "metadata": {
    "slideshow": {
     "slide_type": "slide"
    }
   },
   "source": [
    "# Frameworks estáticos: Grafo Computacional\n",
    "<center>\n",
    "![tensors flowing](tensors_flowing.gif)\n",
    "</center>\n",
    "Theano, Torch, Tensorflow"
   ]
  },
  {
   "cell_type": "markdown",
   "metadata": {},
   "source": [
    "# Import `tensorflow` \n",
    "import tensorflow as tf\n",
    "\n",
    "# Initialize two constants\n",
    "x1 = tf.constant([1,2,3,4])\n",
    "x2 = tf.constant([5,6,7,8])\n",
    "\n",
    "# Multiply\n",
    "graph = tf.multiply(x1, x2)\n",
    "\n",
    "# Intialize the Session\n",
    "sess = tf.Session()\n",
    "\n",
    "# Print the result\n",
    "result=sess.run(graph)\n",
    "print(result)\n",
    "\n",
    "# Close the session\n",
    "sess.close()"
   ]
  },
  {
   "cell_type": "code",
   "execution_count": 1,
   "metadata": {},
   "outputs": [
    {
     "name": "stdout",
     "output_type": "stream",
     "text": [
      "tensor([  5.,  12.,  21.,  32.])\n"
     ]
    }
   ],
   "source": [
    "# Import PyTorch\n",
    "import torch\n",
    "\n",
    "x1=torch.Tensor([1,2,3,4])\n",
    "x2=torch.Tensor([5,6,7,8])\n",
    "\n",
    "result=x1*x2\n",
    "\n",
    "print(result)\n"
   ]
  },
  {
   "cell_type": "markdown",
   "metadata": {},
   "source": [
    "# Frameworks dinâmicos\n",
    "\n",
    "- Menos código\n",
    "- Execução mais intuitiva\n",
    "- Depuração mais simples\n",
    "- Arquiteturas adaptáveis e modulares\n",
    "\n",
    "# Frameworks estáticos\n",
    "\n",
    "- Melhor otimização de recursos\n",
    "- Maior desempenho"
   ]
  },
  {
   "cell_type": "markdown",
   "metadata": {},
   "source": [
    "# Exemplo: Regressão Linear em PyTorch"
   ]
  },
  {
   "cell_type": "code",
   "execution_count": 604,
   "metadata": {},
   "outputs": [
    {
     "data": {
      "image/png": "[encoded data removed]",
      "text/plain": [
       "<Figure size 432x288 with 1 Axes>"
      ]
     },
     "metadata": {},
     "output_type": "display_data"
    }
   ],
   "source": [
    "import torch\n",
    "import matplotlib.pyplot as plt\n",
    "\n",
    "torch.manual_seed(42)\n",
    "data_X = torch.linspace(-1, 1, 101)\n",
    "data_Y = 2 * data_X + torch.randn(data_X.size()) * 0.33\n",
    "\n",
    "plt.scatter(data_X,data_Y)\n",
    "plt.show()\n"
   ]
  },
  {
   "cell_type": "code",
   "execution_count": 3,
   "metadata": {},
   "outputs": [
    {
     "name": "stdout",
     "output_type": "stream",
     "text": [
      "Epoch 0 , error 3.911\n",
      "Epoch 1 , error 0.499\n",
      "Epoch 2 , error 0.165\n",
      "Epoch 3 , error 0.133\n",
      "Epoch 4 , error 0.131\n",
      "Epoch 5 , error 0.132\n",
      "Epoch 6 , error 0.133\n",
      "Epoch 7 , error 0.134\n",
      "Epoch 8 , error 0.135\n",
      "Epoch 9 , error 0.137\n"
     ]
    }
   ],
   "source": [
    "A=torch.randn(1,requires_grad=True)\n",
    "B=torch.randn(1,requires_grad=True)\n",
    "\n",
    "def model(x):\n",
    "    return A*x+B\n",
    "\n",
    "# Como chegar aos coeficientes A e B a partir dos dados?\n",
    "# Vamos implementar uma solução usando Stochastic Gradient Descent\n",
    "\n",
    "learning_rate=0.01\n",
    "num_training_instances=data_X.size(0)\n",
    "for i in range(0,10):\n",
    "   \n",
    "    epoch_error=0\n",
    "    \n",
    "    # Forward pass\n",
    "    y=model(data_X)\n",
    "    error= ((y-data_Y)*(y-data_Y)).sum() # Erro medio quadratico\n",
    "    \n",
    "    # Backward pass\n",
    "        \n",
    "    error.backward()\n",
    "    with torch.no_grad():\n",
    "        A-=learning_rate*A.grad\n",
    "        B-=learning_rate*B.grad\n",
    "    \n",
    "    A.grad.zero_()\n",
    "    B.grad.zero_()\n",
    "        \n",
    "    print(\"Epoch %d , error %.3f\"%(i,error/num_training_instances))    \n",
    "        \n"
   ]
  },
  {
   "cell_type": "code",
   "execution_count": null,
   "metadata": {},
   "outputs": [],
   "source": []
  },
  {
   "cell_type": "code",
   "execution_count": 4,
   "metadata": {},
   "outputs": [
    {
     "data": {
      "text/plain": [
       "<matplotlib.collections.PathCollection at 0x7f727cb4f0b8>"
      ]
     },
     "execution_count": 4,
     "metadata": {},
     "output_type": "execute_result"
    },
    {
     "data": {
      "image/png": "[encoded data removed]",
      "text/plain": [
       "<Figure size 432x288 with 1 Axes>"
      ]
     },
     "metadata": {},
     "output_type": "display_data"
    }
   ],
   "source": [
    "pred_Y=model(data_X)\n",
    "plt.scatter(data_X,data_Y,color=\"blue\")\n",
    "plt.scatter(data_X,pred_Y.detach().numpy(),color=\"red\")"
   ]
  },
  {
   "cell_type": "markdown",
   "metadata": {},
   "source": [
    "# Exemplo 2: Predição de Diabetes"
   ]
  },
  {
   "cell_type": "markdown",
   "metadata": {},
   "source": [
    "## Leitura do dataset"
   ]
  },
  {
   "cell_type": "code",
   "execution_count": 363,
   "metadata": {},
   "outputs": [
    {
     "data": {
      "text/html": [
       "<div>\n",
       "<style scoped>\n",
       "    .dataframe tbody tr th:only-of-type {\n",
       "        vertical-align: middle;\n",
       "    }\n",
       "\n",
       "    .dataframe tbody tr th {\n",
       "        vertical-align: top;\n",
       "    }\n",
       "\n",
       "    .dataframe thead th {\n",
       "        text-align: right;\n",
       "    }\n",
       "</style>\n",
       "<table border=\"1\" class=\"dataframe\">\n",
       "  <thead>\n",
       "    <tr style=\"text-align: right;\">\n",
       "      <th></th>\n",
       "      <th>Pregnancies</th>\n",
       "      <th>Glucose</th>\n",
       "      <th>BloodPressure</th>\n",
       "      <th>SkinThickness</th>\n",
       "      <th>Insulin</th>\n",
       "      <th>BMI</th>\n",
       "      <th>DiabetesPedigreeFunction</th>\n",
       "      <th>Age</th>\n",
       "      <th>Outcome</th>\n",
       "    </tr>\n",
       "  </thead>\n",
       "  <tbody>\n",
       "    <tr>\n",
       "      <th>0</th>\n",
       "      <td>6</td>\n",
       "      <td>148</td>\n",
       "      <td>72</td>\n",
       "      <td>35</td>\n",
       "      <td>0</td>\n",
       "      <td>33.6</td>\n",
       "      <td>0.627</td>\n",
       "      <td>50</td>\n",
       "      <td>1</td>\n",
       "    </tr>\n",
       "    <tr>\n",
       "      <th>1</th>\n",
       "      <td>1</td>\n",
       "      <td>85</td>\n",
       "      <td>66</td>\n",
       "      <td>29</td>\n",
       "      <td>0</td>\n",
       "      <td>26.6</td>\n",
       "      <td>0.351</td>\n",
       "      <td>31</td>\n",
       "      <td>0</td>\n",
       "    </tr>\n",
       "    <tr>\n",
       "      <th>2</th>\n",
       "      <td>8</td>\n",
       "      <td>183</td>\n",
       "      <td>64</td>\n",
       "      <td>0</td>\n",
       "      <td>0</td>\n",
       "      <td>23.3</td>\n",
       "      <td>0.672</td>\n",
       "      <td>32</td>\n",
       "      <td>1</td>\n",
       "    </tr>\n",
       "    <tr>\n",
       "      <th>3</th>\n",
       "      <td>1</td>\n",
       "      <td>89</td>\n",
       "      <td>66</td>\n",
       "      <td>23</td>\n",
       "      <td>94</td>\n",
       "      <td>28.1</td>\n",
       "      <td>0.167</td>\n",
       "      <td>21</td>\n",
       "      <td>0</td>\n",
       "    </tr>\n",
       "    <tr>\n",
       "      <th>4</th>\n",
       "      <td>0</td>\n",
       "      <td>137</td>\n",
       "      <td>40</td>\n",
       "      <td>35</td>\n",
       "      <td>168</td>\n",
       "      <td>43.1</td>\n",
       "      <td>2.288</td>\n",
       "      <td>33</td>\n",
       "      <td>1</td>\n",
       "    </tr>\n",
       "  </tbody>\n",
       "</table>\n",
       "</div>"
      ],
      "text/plain": [
       "   Pregnancies  Glucose  BloodPressure  SkinThickness  Insulin   BMI  \\\n",
       "0            6      148             72             35        0  33.6   \n",
       "1            1       85             66             29        0  26.6   \n",
       "2            8      183             64              0        0  23.3   \n",
       "3            1       89             66             23       94  28.1   \n",
       "4            0      137             40             35      168  43.1   \n",
       "\n",
       "   DiabetesPedigreeFunction  Age  Outcome  \n",
       "0                     0.627   50        1  \n",
       "1                     0.351   31        0  \n",
       "2                     0.672   32        1  \n",
       "3                     0.167   21        0  \n",
       "4                     2.288   33        1  "
      ]
     },
     "execution_count": 363,
     "metadata": {},
     "output_type": "execute_result"
    }
   ],
   "source": [
    "import pandas as pd\n",
    "diabetes = pd.read_csv('diabetes.csv')\n",
    "diabetes.head()"
   ]
  },
  {
   "cell_type": "markdown",
   "metadata": {},
   "source": [
    "## Pre-processamento:\n",
    "- Separa features e target\n",
    "- Converte target de [0,1] para [-1,1]\n",
    "- Normaliza features para [0,1]"
   ]
  },
  {
   "cell_type": "code",
   "execution_count": 515,
   "metadata": {},
   "outputs": [],
   "source": [
    "from sklearn import preprocessing\n",
    "\n",
    "diabetes['Outcome'].replace(to_replace=[0],value=-1,inplace=True)\n",
    "\n",
    "diabetes_features=diabetes.loc[:,diabetes.columns!='Outcome']\n",
    "\n",
    "diabetes_target=diabetes.loc[:,diabetes.columns=='Outcome']\n",
    "\n",
    "# Converte valores para a mesma escala (entre 0 e 1)\n",
    "\n",
    "minmax_scale = preprocessing.MinMaxScaler().fit(diabetes_features)\n",
    "diabetes_features=minmax_scale.transform(diabetes_features)\n"
   ]
  },
  {
   "cell_type": "markdown",
   "metadata": {},
   "source": [
    "## Divisão do Dataset\n",
    "- Cria splits de treino e teste\n",
    "- Converte valores de ndarray para Tensor"
   ]
  },
  {
   "cell_type": "code",
   "execution_count": 516,
   "metadata": {},
   "outputs": [],
   "source": [
    "from sklearn.model_selection import train_test_split\n",
    "X_train, X_test,Y_train,Y_test = train_test_split(diabetes_features,diabetes_target.values)\n",
    "\n",
    "X_train_tensor=torch.from_numpy(X_train).float()\n",
    "Y_train_tensor=torch.from_numpy(Y_train).float()\n"
   ]
  },
  {
   "cell_type": "markdown",
   "metadata": {},
   "source": [
    "## Define Rede Neural "
   ]
  },
  {
   "cell_type": "code",
   "execution_count": 536,
   "metadata": {},
   "outputs": [],
   "source": [
    "import torch.nn.functional as F\n",
    "class DiabetesPredictionModel(torch.nn.Module):\n",
    "     def __init__(self):\n",
    "            super(DiabetesPredictionModel, self).__init__()\n",
    "            # Projeta linearmente as 8 features para um desfecho\n",
    "            self.linear_projection1=torch.nn.Linear(8,2)\n",
    "            self.linear_projection2=torch.nn.Linear(2,1)   \n",
    "     def forward(self,x):\n",
    "        \n",
    "        output=F.tanh(self.linear_projection1(x))\n",
    "        output=F.tanh(self.linear_projection2(output))\n",
    "\n",
    "        return output\n",
    "    \n",
    "    "
   ]
  },
  {
   "cell_type": "markdown",
   "metadata": {},
   "source": [
    "## Instancia Rede Neural e hiperparâmetros"
   ]
  },
  {
   "cell_type": "code",
   "execution_count": 600,
   "metadata": {},
   "outputs": [],
   "source": [
    "model=DiabetesPredictionModel()\n",
    "minibatch_size=128\n",
    "learning_rate=1e-3\n",
    "\n",
    "with torch.no_grad():\n",
    "    for param in model.parameters():\n",
    "        param.uniform_(0,0.01)\n",
    "\n",
    "from sklearn.metrics import accuracy_score\n",
    "\n",
    "import torch.optim as optim\n",
    "\n",
    "optimizer=optim.Adam(model.parameters(),0.01)"
   ]
  },
  {
   "cell_type": "markdown",
   "metadata": {},
   "source": [
    "## Loop de Treino"
   ]
  },
  {
   "cell_type": "code",
   "execution_count": 602,
   "metadata": {},
   "outputs": [
    {
     "data": {
      "text/plain": [
       "<matplotlib.collections.PathCollection at 0x7f72696b6860>"
      ]
     },
     "execution_count": 602,
     "metadata": {},
     "output_type": "execute_result"
    },
    {
     "data": {
      "image/png": "[encoded data removed]",
      "text/plain": [
       "<Figure size 432x288 with 1 Axes>"
      ]
     },
     "metadata": {},
     "output_type": "display_data"
    }
   ],
   "source": [
    "losses={}\n",
    "for i in range(0,1000):\n",
    "    # Seleciona um minibatch aleatório a partir do treino\n",
    "    minibatch_index=torch.randperm(X_train_tensor.size(0))\n",
    "    minibatch_index=minibatch_index[:minibatch_size]\n",
    "    minibatch_x=X_train_tensor[minibatch_index]\n",
    "    minibatch_y=Y_train_tensor[minibatch_index]\n",
    "\n",
    "    #Forward pass\n",
    "    output=model(minibatch_x)\n",
    "   \n",
    "    loss=F.soft_margin_loss(output,minibatch_y)\n",
    "    \n",
    "    \n",
    "    # Backward pass\n",
    "    loss.backward()\n",
    "    \n",
    "    # Optimizer pass\n",
    "    optimizer.step()\n",
    "    optimizer.zero_grad()\n",
    "    if i%10==0:\n",
    "        losses[i]=loss.item()\n",
    "            \n",
    "\n",
    "plt.scatter(losses.keys(),losses.values())"
   ]
  },
  {
   "cell_type": "markdown",
   "metadata": {},
   "source": [
    "## Avaliação do split de teste"
   ]
  },
  {
   "cell_type": "code",
   "execution_count": 603,
   "metadata": {},
   "outputs": [
    {
     "name": "stdout",
     "output_type": "stream",
     "text": [
      "Test accuracy: 77.60%\n"
     ]
    }
   ],
   "source": [
    "with torch.no_grad():\n",
    "    # Avalia no conjunto de testes\n",
    "    X_test_tensor=torch.from_numpy(X_test).float()\n",
    "    Y_test_tensor=torch.from_numpy(Y_test).float()\n",
    "    \n",
    "    y_train_pred=model(X_train_tensor)\n",
    "    y_test_pred=model(X_test_tensor)\n",
    "   \n",
    "    train_accuracy=accuracy_score(Y_train_tensor.gt(0),y_train_pred.gt(0))\n",
    "    test_accuracy=accuracy_score(Y_test_tensor.gt(0),y_test_pred.gt(0))\n",
    "    print(\"Train accuracy: %.2f%%\",(100*train_accuracy))\n",
    "    print(\"Test accuracy: %.2f%%\"%(100*test_accuracy)) \n",
    "\n"
   ]
  },
  {
   "cell_type": "code",
   "execution_count": null,
   "metadata": {},
   "outputs": [],
   "source": []
  },
  {
   "cell_type": "code",
   "execution_count": null,
   "metadata": {},
   "outputs": [],
   "source": []
  },
  {
   "cell_type": "code",
   "execution_count": null,
   "metadata": {},
   "outputs": [],
   "source": []
  }
 ],
 "metadata": {
  "kernelspec": {
   "display_name": "Python 3",
   "language": "python",
   "name": "python3"
  },
  "language_info": {
   "codemirror_mode": {
    "name": "ipython",
    "version": 3
   },
   "file_extension": ".py",
   "mimetype": "text/x-python",
   "name": "python",
   "nbconvert_exporter": "python",
   "pygments_lexer": "ipython3",
   "version": "3.6.4"
  }
 },
 "nbformat": 4,
 "nbformat_minor": 2
}
